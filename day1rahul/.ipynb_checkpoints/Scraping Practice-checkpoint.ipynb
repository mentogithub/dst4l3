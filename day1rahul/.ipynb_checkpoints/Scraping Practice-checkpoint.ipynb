{
 "metadata": {
  "name": "",
  "signature": "sha256:4dbd6b3c1613c89cc073eec8bb351597f900ed04d47ced1b155ac8744e5fea8e"
 },
 "nbformat": 3,
 "nbformat_minor": 0,
 "worksheets": []
}